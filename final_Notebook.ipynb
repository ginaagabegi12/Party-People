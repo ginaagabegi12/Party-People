{
 "cells": [
  {
   "cell_type": "markdown",
   "id": "d2306cab-3eff-416d-bbd6-b74dd4e81dec",
   "metadata": {},
   "source": [
    "# **The Best Neighborhood in Pittsburgh for Community-Based Fun**\n",
    "\n",
    "## Introduction\n",
    "For our project, we wanted to determine the best neighborhood in Pittsburgh by using our custom metrics. For our metric, we wanted to look at the best neighborhood for community-based fun. Our approach was for each of us to look through each of the WPRDC data sets and then collaborate to choose which datasets seemed like the most fit for this metric. Some alternatives included best neighborhood for public safety, best neighborhoods for greenery, and best neighborhoods for less traffic.\n",
    "\n",
    "### The Metric\n",
    "To find our metrics for best neighborhood in Pittsburgh for community-based fun, we considered community engagement, access to green spaces, and fun cultural events. Our individual metrics were:\n",
    "\n",
    "- **Block Parties:** This data set shows all block party requests submitted to the Department of Public Works in 2013-2014. Each record includes the date, address, and applicant information.\n",
    "- **Grow Pittsburgh Gardens:** Food growing locations registered with Grow Pittsburgh. Data includes community gardens, community farms, schoolyard gardens, or urban farms.\n",
    "- **Fish Fry Locations:** Lenten Fish Fry records for the Greater Pittsburgh region. Data is collected before and during the Lenten fish fry season each year by Code for Pittsburgh. Data is sourced from news outlets, social media, and public requests.\n",
    "\n",
    " ### Data for Best Neighborhood in Pittsburgh for Community-Based Fun\n",
    "to do\n",
    " ### Conclusion\n",
    " -**Gina:** to do\n",
    " -**Sydney:** to do\n",
    " -**Gabby:** to do"
   ]
  },
  {
   "cell_type": "code",
   "execution_count": null,
   "id": "f508f00e-100a-455c-94b1-c15edaf80c15",
   "metadata": {},
   "outputs": [],
   "source": []
  }
 ],
 "metadata": {
  "kernelspec": {
   "display_name": "Python 3 (ipykernel)",
   "language": "python",
   "name": "python3"
  },
  "language_info": {
   "codemirror_mode": {
    "name": "ipython",
    "version": 3
   },
   "file_extension": ".py",
   "mimetype": "text/x-python",
   "name": "python",
   "nbconvert_exporter": "python",
   "pygments_lexer": "ipython3",
   "version": "3.12.4"
  }
 },
 "nbformat": 4,
 "nbformat_minor": 5
}
